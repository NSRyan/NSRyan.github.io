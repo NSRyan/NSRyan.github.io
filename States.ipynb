{
 "cells": [
  {
   "cell_type": "code",
   "execution_count": 5,
   "id": "20427d4d",
   "metadata": {},
   "outputs": [],
   "source": [
    "import plotly.graph_objects as go\n",
    "\n",
    "import pandas as pd\n",
    "\n",
    "d = {'State': ['IL', 'NY', 'NC', \n",
    "               'PA', 'GA', 'FL', \n",
    "               'MI', 'OH', 'MO', \n",
    "               'WI', 'IA', 'IN', \n",
    "               'LA', 'CO', 'NV', \n",
    "               'WY', 'ID', 'CA', \n",
    "               'TX', 'KY', 'TN', \n",
    "               'KS', 'DC', 'AR', \n",
    "               'SC'],\n",
    "        'Name':['Illinois', 'New York', 'North Carolina', \n",
    "                  'Pennsylvania', 'Georgia', 'Florida', \n",
    "                  'Michigan', 'Ohio', 'Missouri', \n",
    "                  'Wisconsin ', 'Iowa', 'Indiana', \n",
    "                  'Louisiana', 'Colorado', 'Nevada',\n",
    "                  'Wyoming', 'Idaho', 'California',\n",
    "                  'Texas', 'Kentucky', 'Tennessee',\n",
    "                  'Kansas', 'D.C.', 'Arkansas', \n",
    "                  'South Carolina']}\n",
    "\n",
    "df = pd.DataFrame(data=d)\n",
    "df['text'] = df['State']\n",
    "\n",
    "fig = go.Figure(data=go.Scattergeo(\n",
    "        locationmode = \"USA-states\",\n",
    "        locations = df['State'],\n",
    "        text = df['text'],\n",
    "        mode = 'markers',\n",
    "        marker_color = 'maroon',\n",
    "        ))\n",
    "\n",
    "fig.update_layout(\n",
    "        title = 'US States I have visited',\n",
    "        geo_scope='usa',\n",
    "    )\n",
    "fig.show()\n",
    "# fig.write_html(\"states.html\")\n",
    "# to update the states you have visited, uncomment the line above to replace the existing\n",
    "# then push it to origin"
   ]
  },
  {
   "cell_type": "code",
   "execution_count": null,
   "id": "fc5a92f3",
   "metadata": {},
   "outputs": [],
   "source": []
  }
 ],
 "metadata": {
  "kernelspec": {
   "display_name": "Python 3 (ipykernel)",
   "language": "python",
   "name": "python3"
  },
  "language_info": {
   "codemirror_mode": {
    "name": "ipython",
    "version": 3
   },
   "file_extension": ".py",
   "mimetype": "text/x-python",
   "name": "python",
   "nbconvert_exporter": "python",
   "pygments_lexer": "ipython3",
   "version": "3.9.12"
  }
 },
 "nbformat": 4,
 "nbformat_minor": 5
}
